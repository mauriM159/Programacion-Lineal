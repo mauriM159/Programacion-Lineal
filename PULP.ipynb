{
 "cells": [
  {
   "cell_type": "markdown",
   "metadata": {},
   "source": [
    "Veremos un ejemplo de como usar la biblioteca pulp para resolver problemas de programacion lineal\n",
    "El problema es maximizar:$2x+y$ sujeto a las restricciones $4x+y\\leq150$, $2x-3y\\leq-40$, $x,y\\geq 0$"
   ]
  },
  {
   "cell_type": "code",
   "execution_count": null,
   "metadata": {},
   "outputs": [],
   "source": []
  },
  {
   "cell_type": "code",
   "execution_count": null,
   "metadata": {},
   "outputs": [],
   "source": []
  },
  {
   "cell_type": "code",
   "execution_count": null,
   "metadata": {},
   "outputs": [],
   "source": []
  },
  {
   "cell_type": "code",
   "execution_count": null,
   "metadata": {},
   "outputs": [],
   "source": []
  },
  {
   "cell_type": "code",
   "execution_count": 8,
   "metadata": {},
   "outputs": [],
   "source": [
    "from pulp import *\n",
    "x=LpVariable(\"x\",0)\n",
    "y=LpVariable(\"Y\",0)\n",
    "prob=LpProblem(\"ejemplo\",LpMaximize)\n",
    "prob += 4*x +y <= 150\n",
    "prob += 2*x - 3*y <= -40\n",
    "prob +=2*x +y"
   ]
  },
  {
   "cell_type": "code",
   "execution_count": null,
   "metadata": {},
   "outputs": [],
   "source": []
  },
  {
   "cell_type": "code",
   "execution_count": 3,
   "metadata": {},
   "outputs": [
    {
     "data": {
      "text/plain": [
       "ejemplo:\n",
       "MAXIMIZE\n",
       "None\n",
       "SUBJECT TO\n",
       "_C1: Y + 4 x <= 150\n",
       "\n",
       "_C2: - 3 Y + 2 x <= -40\n",
       "\n",
       "VARIABLES\n",
       "Y Continuous\n",
       "x Continuous"
      ]
     },
     "execution_count": 3,
     "metadata": {},
     "output_type": "execute_result"
    }
   ],
   "source": [
    "prob"
   ]
  },
  {
   "cell_type": "code",
   "execution_count": 9,
   "metadata": {},
   "outputs": [
    {
     "data": {
      "text/plain": [
       "(0.0, 150.0)"
      ]
     },
     "execution_count": 9,
     "metadata": {},
     "output_type": "execute_result"
    }
   ],
   "source": [
    "status = prob.solve()\n",
    "value(x),value(y)"
   ]
  },
  {
   "cell_type": "code",
   "execution_count": 14,
   "metadata": {},
   "outputs": [
    {
     "data": {
      "text/plain": [
       "(150.0, 'Optimal')"
      ]
     },
     "execution_count": 14,
     "metadata": {},
     "output_type": "execute_result"
    }
   ],
   "source": [
    "value(prob.objective),LpStatus[prob.status]"
   ]
  },
  {
   "cell_type": "code",
   "execution_count": null,
   "metadata": {},
   "outputs": [],
   "source": [
    "Ejercicios de programación lineal\n",
    "27 de enero de 2020"
   ]
  },
  {
   "cell_type": "markdown",
   "metadata": {},
   "source": [
    "MAXIMIZAR $2x+2y$  sujeto a las restricciones $x,y\\geq 0$. ,$2x+y\\leq 4$ , $-2x-2y\\geq -5 $."
   ]
  },
  {
   "cell_type": "code",
   "execution_count": 19,
   "metadata": {},
   "outputs": [],
   "source": [
    "from pulp import *\n",
    "x=LpVariable(\"x\",0)\n",
    "y=LpVariable(\"Y\",0)\n",
    "prob=LpProblem(\"ejemplo\",LpMaximize)\n",
    "prob += 2*x +4*y <= 4\n",
    "prob += -2*x - 2*y <= -5\n",
    "prob +=2*x +2*y"
   ]
  },
  {
   "cell_type": "code",
   "execution_count": 20,
   "metadata": {},
   "outputs": [
    {
     "data": {
      "text/plain": [
       "ejemplo:\n",
       "MAXIMIZE\n",
       "2*Y + 2*x + 0\n",
       "SUBJECT TO\n",
       "_C1: 4 Y + 2 x <= 4\n",
       "\n",
       "_C2: - 2 Y - 2 x <= -5\n",
       "\n",
       "VARIABLES\n",
       "Y Continuous\n",
       "x Continuous"
      ]
     },
     "execution_count": 20,
     "metadata": {},
     "output_type": "execute_result"
    }
   ],
   "source": [
    "prob"
   ]
  },
  {
   "cell_type": "code",
   "execution_count": 21,
   "metadata": {},
   "outputs": [
    {
     "data": {
      "text/plain": [
       "(2.5, 0.0)"
      ]
     },
     "execution_count": 21,
     "metadata": {},
     "output_type": "execute_result"
    }
   ],
   "source": [
    "status = prob.solve()\n",
    "value(x),value(y)"
   ]
  },
  {
   "cell_type": "code",
   "execution_count": 24,
   "metadata": {},
   "outputs": [],
   "source": [
    "from pulp import *\n",
    "x=LpVariable(\"x\",0)\n",
    "y=LpVariable(\"Y\",0)\n",
    "prob=LpProblem(\"ejemplo\",LpMinimize)\n",
    "prob += 3*x + y <= 7\n",
    "prob += -x -y >= -3 \n",
    "prob += -x-2* y >=-5\n",
    "prob +=-5*x -5*y"
   ]
  },
  {
   "cell_type": "code",
   "execution_count": 25,
   "metadata": {},
   "outputs": [
    {
     "data": {
      "text/plain": [
       "ejemplo:\n",
       "MINIMIZE\n",
       "-5*Y + -5*x + 0\n",
       "SUBJECT TO\n",
       "_C1: Y + 3 x <= 7\n",
       "\n",
       "_C2: - Y - x >= -3\n",
       "\n",
       "_C3: - 2 Y - x >= -5\n",
       "\n",
       "VARIABLES\n",
       "Y Continuous\n",
       "x Continuous"
      ]
     },
     "execution_count": 25,
     "metadata": {},
     "output_type": "execute_result"
    }
   ],
   "source": [
    "prob"
   ]
  },
  {
   "cell_type": "code",
   "execution_count": 26,
   "metadata": {},
   "outputs": [
    {
     "data": {
      "text/plain": [
       "(2.0, 1.0)"
      ]
     },
     "execution_count": 26,
     "metadata": {},
     "output_type": "execute_result"
    }
   ],
   "source": [
    "status = prob.solve()\n",
    "value(x),value(y)"
   ]
  },
  {
   "cell_type": "code",
   "execution_count": null,
   "metadata": {},
   "outputs": [],
   "source": []
  },
  {
   "cell_type": "code",
   "execution_count": null,
   "metadata": {},
   "outputs": [],
   "source": []
  },
  {
   "cell_type": "code",
   "execution_count": null,
   "metadata": {},
   "outputs": [],
   "source": []
  },
  {
   "cell_type": "code",
   "execution_count": null,
   "metadata": {},
   "outputs": [],
   "source": []
  },
  {
   "cell_type": "code",
   "execution_count": null,
   "metadata": {},
   "outputs": [],
   "source": []
  },
  {
   "cell_type": "code",
   "execution_count": null,
   "metadata": {},
   "outputs": [],
   "source": []
  },
  {
   "cell_type": "code",
   "execution_count": null,
   "metadata": {},
   "outputs": [],
   "source": []
  },
  {
   "cell_type": "code",
   "execution_count": null,
   "metadata": {},
   "outputs": [],
   "source": []
  },
  {
   "cell_type": "code",
   "execution_count": null,
   "metadata": {},
   "outputs": [],
   "source": []
  },
  {
   "cell_type": "code",
   "execution_count": null,
   "metadata": {},
   "outputs": [],
   "source": []
  },
  {
   "cell_type": "code",
   "execution_count": null,
   "metadata": {},
   "outputs": [],
   "source": []
  }
 ],
 "metadata": {
  "kernelspec": {
   "display_name": "Python 3",
   "language": "python",
   "name": "python3"
  },
  "language_info": {
   "codemirror_mode": {
    "name": "ipython",
    "version": 3
   },
   "file_extension": ".py",
   "mimetype": "text/x-python",
   "name": "python",
   "nbconvert_exporter": "python",
   "pygments_lexer": "ipython3",
   "version": "3.7.0"
  }
 },
 "nbformat": 4,
 "nbformat_minor": 2
}
